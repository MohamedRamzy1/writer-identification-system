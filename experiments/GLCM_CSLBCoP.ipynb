{
 "cells": [
  {
   "cell_type": "code",
   "execution_count": 46,
   "metadata": {},
   "outputs": [],
   "source": [
    "def combine_GLCMs(GLCM1, GLCM2, GLCM3, GLCM4):\n",
    "    GLCM1_flattened = GLCM1.flatten()\n",
    "    GLCM2_flattened = GLCM2.flatten()\n",
    "    GLCM3_flattened = GLCM3.flatten()\n",
    "    GLCM4_flattened = GLCM4.flatten()\n",
    "    FV = np.concatenate([GLCM1_flattened, GLCM2_flattened, GLCM3_flattened, GLCM4_flattened])\n",
    "    return FV\n",
    "\n",
    "\n",
    "def GLCM_CSLBCoP_Feature(LBP_map):\n",
    "    # GLCM matrix on distances (0, 1) and angles (0, -45, -90, -135)\n",
    "    GLCM = greycomatrix(LBP_map, [1, 2], [0, -np.pi/4, -np.pi/2, -3*np.pi/4], levels=256)\n",
    "\n",
    "    # extract different combinations of GLCM\n",
    "    GLCM_1_0 = GLCM[:, :, 0, 0]\n",
    "    GLCM_1_45 = GLCM[:, :, 0, 1]\n",
    "    GLCM_1_90 = GLCM[:, :, 0, 2]\n",
    "    GLCM_1_135 = GLCM[:, :, 0, 3]\n",
    "\n",
    "    GLCM_2_0 = GLCM[:, :, 1, 0]\n",
    "    GLCM_2_45 = GLCM[:, :, 1, 1]\n",
    "    GLCM_2_90 = GLCM[:, :, 1, 2]\n",
    "    GLCM_2_135 = GLCM[:, :, 1, 3]\n",
    "\n",
    "    # Feature Vectors\n",
    "    # FV1: combining GLCMs of distance 1 and all angles\n",
    "    FV1 = combine_GLCMs(GLCM_1_0, GLCM_1_45, GLCM_1_90, GLCM_1_135)\n",
    "    # FV2: combining GLCMs of distance 2 and all angles\n",
    "    FV2 = combine_GLCMs(GLCM_2_0, GLCM_2_45, GLCM_2_90, GLCM_2_135)\n",
    "    # FV3: combining GLCMs of distance (1, 2) and of angles (0, -45)\n",
    "    FV3 = combine_GLCMs(GLCM_1_0, GLCM_1_45, GLCM_2_0, GLCM_2_45)\n",
    "    # FV3: combining GLCMs of distance (1, 2) and of angles (0, -90)\n",
    "    FV4 = combine_GLCMs(GLCM_1_0, GLCM_1_90, GLCM_2_0, GLCM_2_90)\n",
    "    # FV: combining the FVs\n",
    "    FV = np.concatenate([FV1, FV2, FV3, FV4])\n",
    "    \n",
    "    return FV\n",
    "    "
   ]
  },
  {
   "cell_type": "code",
   "execution_count": 49,
   "metadata": {},
   "outputs": [
    {
     "name": "stdout",
     "output_type": "stream",
     "text": [
      "--- 0.009122371673583984 seconds taken ---\n"
     ]
    },
    {
     "name": "stderr",
     "output_type": "stream",
     "text": [
      "<ipython-input-49-86a741efafbb>:7: FutureWarning: The behavior of rgb2gray will change in scikit-image 0.19. Currently, rgb2gray allows 2D grayscale image to be passed as inputs and leaves them unmodified as outputs. Starting from version 0.19, 2D arrays will be treated as 1D images with 3 channels.\n",
      "  img =  rgb2gray(io.imread('./1.png'))\n"
     ]
    }
   ],
   "source": [
    "from skimage import io\n",
    "import numpy as np\n",
    "from skimage.color import rgb2gray\n",
    "import time\n",
    "from skimage.feature import greycomatrix\n",
    "\n",
    "img =  rgb2gray(io.imread('./1.png'))\n",
    "start_time = time.time()\n",
    "GLCM_CSLBCoP_Feature(img)\n",
    "print(\"--- %s seconds taken ---\" % (time.time() - start_time))\n",
    "\n",
    "\n"
   ]
  },
  {
   "cell_type": "code",
   "execution_count": null,
   "metadata": {},
   "outputs": [],
   "source": []
  }
 ],
 "metadata": {
  "kernelspec": {
   "display_name": "Python 3",
   "language": "python",
   "name": "python3"
  },
  "language_info": {
   "codemirror_mode": {
    "name": "ipython",
    "version": 3
   },
   "file_extension": ".py",
   "mimetype": "text/x-python",
   "name": "python",
   "nbconvert_exporter": "python",
   "pygments_lexer": "ipython3",
   "version": "3.8.5"
  }
 },
 "nbformat": 4,
 "nbformat_minor": 4
}
